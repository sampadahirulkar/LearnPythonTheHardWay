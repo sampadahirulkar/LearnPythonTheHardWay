{
  "nbformat": 4,
  "nbformat_minor": 0,
  "metadata": {
    "colab": {
      "name": "Exercise 10.ipynb",
      "provenance": [],
      "collapsed_sections": [],
      "authorship_tag": "ABX9TyOSfj0FcmcyjRSjm4y0c6pK",
      "include_colab_link": true
    },
    "kernelspec": {
      "name": "python3",
      "display_name": "Python 3"
    }
  },
  "cells": [
    {
      "cell_type": "markdown",
      "metadata": {
        "id": "view-in-github",
        "colab_type": "text"
      },
      "source": [
        "<a href=\"https://colab.research.google.com/github/sampadahirulkar/LearnPythonTheHardWay/blob/main/Exercise_10.ipynb\" target=\"_parent\"><img src=\"https://colab.research.google.com/assets/colab-badge.svg\" alt=\"Open In Colab\"/></a>"
      ]
    },
    {
      "cell_type": "code",
      "metadata": {
        "colab": {
          "base_uri": "https://localhost:8080/"
        },
        "id": "6Bz8ev2HWv0U",
        "outputId": "8cc56f64-48ff-4b27-aa3b-d22d36730d81"
      },
      "source": [
        "tabby_cat = \"\\tI'm tabbed in.\"\r\n",
        "persian_cat = \"I'm split\\non a line.\"\r\n",
        "backslash_cat = \"I'm \\\\ a \\\\ cat.\"\r\n",
        "\r\n",
        "fat_cat = \"\"\"\r\n",
        "I'll do a list:\r\n",
        "\\t* Cat food\r\n",
        "\\t* fishies\r\n",
        "\\t* Catnip\\n\\t* Grass\r\n",
        "\"\"\"\r\n",
        "\r\n",
        "print(tabby_cat)\r\n",
        "print(persian_cat)\r\n",
        "print(backslash_cat)\r\n",
        "print(fat_cat)\r\n",
        "\r\n",
        "\r\n",
        "\r\n",
        "\r\n",
        "\r\n",
        "#Escape What it does.\r\n",
        "#\\\\ Backslash (\\)\r\n",
        "#\\' Single-quote (')\r\n",
        "#\\\" Double-quote (\")\r\n",
        "#\\a ASCII bell (BEL)\r\n",
        "#\\b ASCII backspace (BS)\r\n",
        "#\\f ASCII formfeed (FF)\r\n",
        "#\\n ASCII linefeed (LF)\r\n",
        "#\\N{name} Character named name in the Unicode database (Unicode only)\r\n",
        "#\\r Carriage return (CR)\r\n",
        "#\\t Horizontal tab (TAB)\r\n",
        "#\\uxxxx Character with 16-bit hex value xxxx\r\n",
        "#\\Uxxxxxxxx Character with 32-bit hex value xxxxxxxx\r\n",
        "#\\v ASCII vertical tab (VT)\r\n",
        "#\\000 Character with octal value 000\r\n",
        "#\\xhh Character with hex value hh"
      ],
      "execution_count": 1,
      "outputs": [
        {
          "output_type": "stream",
          "text": [
            "\tI'm tabbed in.\n",
            "I'm split\n",
            "on a line.\n",
            "I'm \\ a \\ cat.\n",
            "\n",
            "I'll do a list:\n",
            "\t* Cat food\n",
            "\t* fishies\n",
            "\t* Catnip\n",
            "\t* Grass\n",
            "\n"
          ],
          "name": "stdout"
        }
      ]
    }
  ]
}