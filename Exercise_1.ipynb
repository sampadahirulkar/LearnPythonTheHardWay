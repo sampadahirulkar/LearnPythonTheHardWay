{
  "nbformat": 4,
  "nbformat_minor": 0,
  "metadata": {
    "colab": {
      "name": "Exercise 1.ipynb",
      "provenance": [],
      "authorship_tag": "ABX9TyOhBoxuOsXDR+6XuPIBnjpn",
      "include_colab_link": true
    },
    "kernelspec": {
      "name": "python3",
      "display_name": "Python 3"
    }
  },
  "cells": [
    {
      "cell_type": "markdown",
      "metadata": {
        "id": "view-in-github",
        "colab_type": "text"
      },
      "source": [
        "<a href=\"https://colab.research.google.com/github/sampadahirulkar/LearnPythonTheHardWay/blob/main/Exercise_1.ipynb\" target=\"_parent\"><img src=\"https://colab.research.google.com/assets/colab-badge.svg\" alt=\"Open In Colab\"/></a>"
      ]
    },
    {
      "cell_type": "code",
      "metadata": {
        "colab": {
          "base_uri": "https://localhost:8080/"
        },
        "id": "JcRU_HWzX59r",
        "outputId": "d616973e-688e-4a87-a7fb-2795328efef8"
      },
      "source": [
        "print(\"hello world\")\r\n",
        "print(\"hello again!\")\r\n",
        "print(\"I like typing this.\")\r\n",
        "print(\"This is fun!\")\r\n",
        "print(\"Yay! Printing!\")\r\n",
        "print(\"I'd much rather you 'not'.\")\r\n",
        "print('I \"said\" do not touch this.')\r\n",
        "# print(\"I'm still printing.\")\r\n",
        "# ..."
      ],
      "execution_count": 1,
      "outputs": [
        {
          "output_type": "stream",
          "text": [
            "hello world\n",
            "hello again!\n",
            "I like typing this.\n",
            "This is fun!\n",
            "Yay! Printing!\n",
            "I'd much rather you 'not'.\n",
            "I \"said\" do not touch this.\n"
          ],
          "name": "stdout"
        }
      ]
    }
  ]
}