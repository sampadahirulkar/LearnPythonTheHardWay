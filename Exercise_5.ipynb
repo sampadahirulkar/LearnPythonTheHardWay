{
  "nbformat": 4,
  "nbformat_minor": 0,
  "metadata": {
    "colab": {
      "name": "Exercise 5.ipynb",
      "provenance": [],
      "authorship_tag": "ABX9TyPhavhyScpknrfvxdZjJYFi",
      "include_colab_link": true
    },
    "kernelspec": {
      "name": "python3",
      "display_name": "Python 3"
    }
  },
  "cells": [
    {
      "cell_type": "markdown",
      "metadata": {
        "id": "view-in-github",
        "colab_type": "text"
      },
      "source": [
        "<a href=\"https://colab.research.google.com/github/sampadahirulkar/LearnPythonTheHardWay/blob/main/Exercise_5.ipynb\" target=\"_parent\"><img src=\"https://colab.research.google.com/assets/colab-badge.svg\" alt=\"Open In Colab\"/></a>"
      ]
    },
    {
      "cell_type": "code",
      "metadata": {
        "colab": {
          "base_uri": "https://localhost:8080/"
        },
        "id": "gSFS6W64ajBF",
        "outputId": "e86e1908-13af-406a-e5d8-4f6bf79aaa1d"
      },
      "source": [
        "name = 'Sampada'\r\n",
        "age = 18 # not a lie\r\n",
        "height = 157 # centimeters\r\n",
        "height1 = height * 0.01 # meters\r\n",
        "weight = 45 # kilograms\r\n",
        "eyes = 'brown'\r\n",
        "teeth = 'white'\r\n",
        "hair = 'brown'\r\n",
        "\r\n",
        "print(f\"Let's talk about {name}\")\r\n",
        "print(f\"She's {height1} meters tall.\")\r\n",
        "print(f\"She's {weight} kilograms heavy.\")\r\n",
        "print(f\"Actually that's not too heavy.\")\r\n",
        "print(f\"She's got {eyes} eyes and {hair} hair.\")\r\n",
        "print(f\"Her teeth are usually {teeth} depending on the coffee.\")\r\n",
        "\r\n",
        "# Tricky line alert\r\n",
        "total = age + height1 + weight\r\n",
        "print(f\"If I add {age}, {height1}, and {weight} I get {total}.\")"
      ],
      "execution_count": 1,
      "outputs": [
        {
          "output_type": "stream",
          "text": [
            "Let's talk about Sampada\n",
            "She's 1.57 meters tall.\n",
            "She's 45 kilograms heavy.\n",
            "Actually that's not too heavy.\n",
            "She's got brown eyes and brown hair.\n",
            "Her teeth are usually white depending on the coffee.\n",
            "If I add 18, 1.57, and 45 I get 64.57.\n"
          ],
          "name": "stdout"
        }
      ]
    }
  ]
}