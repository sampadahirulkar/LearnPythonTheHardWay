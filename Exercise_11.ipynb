{
  "nbformat": 4,
  "nbformat_minor": 0,
  "metadata": {
    "colab": {
      "name": "Exercise 11.ipynb",
      "provenance": [],
      "authorship_tag": "ABX9TyN0bdkTsTa2TNrNnXMZqHEf",
      "include_colab_link": true
    },
    "kernelspec": {
      "name": "python3",
      "display_name": "Python 3"
    }
  },
  "cells": [
    {
      "cell_type": "markdown",
      "metadata": {
        "id": "view-in-github",
        "colab_type": "text"
      },
      "source": [
        "<a href=\"https://colab.research.google.com/github/sampadahirulkar/LearnPythonTheHardWay/blob/main/Exercise_11.ipynb\" target=\"_parent\"><img src=\"https://colab.research.google.com/assets/colab-badge.svg\" alt=\"Open In Colab\"/></a>"
      ]
    },
    {
      "cell_type": "code",
      "metadata": {
        "colab": {
          "base_uri": "https://localhost:8080/"
        },
        "id": "BKrNCf4KQqjf",
        "outputId": "1a6c7f5f-64dc-4c40-f030-cf033c34b26c"
      },
      "source": [
        "print(\"How old are you?\", end=' ')\r\n",
        "age = input()\r\n",
        "print(\"How tall are you?\", end=' ')\r\n",
        "height = input()\r\n",
        "print(\"How much do you weight?\", end=' ')\r\n",
        "weight = input()\r\n",
        "\r\n",
        "print(f\"So, you're {age} old, {height} tall and {weight} heavy.\")"
      ],
      "execution_count": 2,
      "outputs": [
        {
          "output_type": "stream",
          "text": [
            "How old are you? 18 years\n",
            "How tall are you? 157 cm\n",
            "How much do you weight? 45kg\n",
            "So, you're 18 years old, 157 cm tall and 45kg heavy.\n"
          ],
          "name": "stdout"
        }
      ]
    }
  ]
}