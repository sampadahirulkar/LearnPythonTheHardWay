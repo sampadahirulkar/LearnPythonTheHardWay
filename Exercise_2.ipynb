{
  "nbformat": 4,
  "nbformat_minor": 0,
  "metadata": {
    "colab": {
      "name": "Exercise 2.ipynb",
      "provenance": [],
      "authorship_tag": "ABX9TyPiZmqVfAa5UOzHEQcGcx3p",
      "include_colab_link": true
    },
    "kernelspec": {
      "name": "python3",
      "display_name": "Python 3"
    }
  },
  "cells": [
    {
      "cell_type": "markdown",
      "metadata": {
        "id": "view-in-github",
        "colab_type": "text"
      },
      "source": [
        "<a href=\"https://colab.research.google.com/github/sampadahirulkar/LearnPythonTheHardWay/blob/main/Exercise_2.ipynb\" target=\"_parent\"><img src=\"https://colab.research.google.com/assets/colab-badge.svg\" alt=\"Open In Colab\"/></a>"
      ]
    },
    {
      "cell_type": "code",
      "metadata": {
        "colab": {
          "base_uri": "https://localhost:8080/"
        },
        "id": "iI1n485dZXW4",
        "outputId": "990ffe47-f030-4a67-b9be-e9b648462f6a"
      },
      "source": [
        "# A comment, so I can read my program later\r\n",
        "# Python ignores everything after # symbol\r\n",
        "\r\n",
        "print(\"I could have code like this\") # and the comment after is ignored.\r\n",
        "\r\n",
        "# You can use # to 'disable' or comment out code.\r\n",
        "\r\n",
        "# For example, between lines 10 and 11,\r\n",
        "\r\n",
        "# print(\"this won't run.\")\r\n",
        "print(\"this will run.\")\r\n",
        "\r\n",
        "# the result will be \"this will run.\""
      ],
      "execution_count": 1,
      "outputs": [
        {
          "output_type": "stream",
          "text": [
            "I could have code like this\n",
            "this will run.\n"
          ],
          "name": "stdout"
        }
      ]
    }
  ]
}