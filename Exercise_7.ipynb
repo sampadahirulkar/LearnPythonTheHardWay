{
  "nbformat": 4,
  "nbformat_minor": 0,
  "metadata": {
    "colab": {
      "name": "Exercise 7.ipynb",
      "provenance": [],
      "authorship_tag": "ABX9TyMf7Bj4aRL4rnkV6sEWwEY8",
      "include_colab_link": true
    },
    "kernelspec": {
      "name": "python3",
      "display_name": "Python 3"
    }
  },
  "cells": [
    {
      "cell_type": "markdown",
      "metadata": {
        "id": "view-in-github",
        "colab_type": "text"
      },
      "source": [
        "<a href=\"https://colab.research.google.com/github/sampadahirulkar/LearnPythonTheHardWay/blob/main/Exercise_7.ipynb\" target=\"_parent\"><img src=\"https://colab.research.google.com/assets/colab-badge.svg\" alt=\"Open In Colab\"/></a>"
      ]
    },
    {
      "cell_type": "code",
      "metadata": {
        "colab": {
          "base_uri": "https://localhost:8080/"
        },
        "id": "u1WeU4JMgzp4",
        "outputId": "caffa1d5-67c1-4762-dd46-b32e46f6b3e4"
      },
      "source": [
        "print(\"Mary had a little lamb.\")\r\n",
        "print(\"Its fleece was white as {}\".format('snow'))\r\n",
        "print(\"And everywhere that Mary went.\")\r\n",
        "print(\".\" * 10) # This will give 10 '.'s\r\n",
        "\r\n",
        "e1 = \"C\"\r\n",
        "e2 = \"h\"\r\n",
        "e3 = \"e\"\r\n",
        "e4 = \"e\"\r\n",
        "e5 = \"s\"\r\n",
        "e6 = \"e\"\r\n",
        "e7 = \"B\"\r\n",
        "e8 = \"u\"\r\n",
        "e9 = \"r\"\r\n",
        "e10 = \"g\"\r\n",
        "e11 = \"e\"\r\n",
        "e12 = \"r\"\r\n",
        "\r\n",
        "# Doubt: In the book, author adds \", e=' '\" after e6, in the print operation.\r\n"
        "# And his output is Cheese Burger in a single line as opposed to in two lines like mine\r\n",
        "# if I do add e=' ', it shows error.\r\n",
        "# I have done everything exactly as the author has\r\n",
        "# What am I missing?\r\n",
        "\r\n",
        "print(e1 + e2 + e3 + e4 + e5 + e6)\r\n",
        "print(e7 + e8 + e9 + e10 + e11 + e12)\r\n"
      ],
      "execution_count": 9,
      "outputs": [
        {
          "output_type": "stream",
          "text": [
            "Mary had a little lamb.\n",
            "Its fleece was white as snow\n",
            "And everywhere that Mary went.\n",
            "..........\n",
            "Cheese\n",
            "Burger\n"
          ],
          "name": "stdout"
        }
      ]
    }
  ]
}
