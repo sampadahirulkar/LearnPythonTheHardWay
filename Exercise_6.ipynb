{
  "nbformat": 4,
  "nbformat_minor": 0,
  "metadata": {
    "colab": {
      "name": "Exercise 6.ipynb",
      "provenance": [],
      "authorship_tag": "ABX9TyM8c9Av5d/TQcPV5SBSeVB7",
      "include_colab_link": true
    },
    "kernelspec": {
      "name": "python3",
      "display_name": "Python 3"
    }
  },
  "cells": [
    {
      "cell_type": "markdown",
      "metadata": {
        "id": "view-in-github",
        "colab_type": "text"
      },
      "source": [
        "<a href=\"https://colab.research.google.com/github/sampadahirulkar/LearnPythonTheHardWay/blob/main/Exercise_6.ipynb\" target=\"_parent\"><img src=\"https://colab.research.google.com/assets/colab-badge.svg\" alt=\"Open In Colab\"/></a>"
      ]
    },
    {
      "cell_type": "code",
      "metadata": {
        "colab": {
          "base_uri": "https://localhost:8080/"
        },
        "id": "9RTGiyiba7I_",
        "outputId": "df2d747b-2a3a-4124-bcb1-068728b80f2e"
      },
      "source": [
        "types_of_people = 10\r\n",
        "x = f\"There are {types_of_people} types of people.\" # basically shortening the long line to a short 'x'\r\n",
        "\r\n",
        "binary = \"binary\"\r\n",
        "do_not = \"don't\"\r\n",
        "y = f\"Those who know {binary} and those who {do_not}.\" # just using the {}s for practice\r\n",
        "\r\n",
        "# by this, we write two long sentances in short, since the have been given variables\r\n",
        "print(x)\r\n",
        "print(y)\r\n",
        "\r\n",
        "print(f\"I said: {x}\")\r\n",
        "print(f\"I also said: '{y}'\")\r\n",
        "\r\n",
        "hilarious = False\r\n",
        "joke_evaluation = \"Isn't that joke so funny?! {}\"\r\n",
        "\r\n",
        "# the joke_evaluation will write the previously assigned value except the {}\r\n",
        "# the .format(hilarious) will put the value assigned to 'hilarious' (which is 'False') in the {}s\r\n",
        "print(joke_evaluation.format(hilarious))\r\n",
        "\r\n",
        "w = \"This is the left side of...\"\r\n",
        "e = \"a string with a right side.\"\r\n",
        "\r\n",
        "print(w + e)"
      ],
      "execution_count": 3,
      "outputs": [
        {
          "output_type": "stream",
          "text": [
            "There are 10 types of people.\n",
            "Those who know binary and those who don't.\n",
            "I said: There are 10 types of people.\n",
            "I also said: 'Those who know binary and those who don't.'\n",
            "Isn't that joke so funny?! False\n",
            "This is the left side of...a string with a right side.\n"
          ],
          "name": "stdout"
        }
      ]
    }
  ]
}