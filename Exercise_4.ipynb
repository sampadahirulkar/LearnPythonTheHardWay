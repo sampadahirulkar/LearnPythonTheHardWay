{
  "nbformat": 4,
  "nbformat_minor": 0,
  "metadata": {
    "colab": {
      "name": "Exercise 4.ipynb",
      "provenance": [],
      "authorship_tag": "ABX9TyMfgKSGna5Q//72EKPzIjL+",
      "include_colab_link": true
    },
    "kernelspec": {
      "name": "python3",
      "display_name": "Python 3"
    }
  },
  "cells": [
    {
      "cell_type": "markdown",
      "metadata": {
        "id": "view-in-github",
        "colab_type": "text"
      },
      "source": [
        "<a href=\"https://colab.research.google.com/github/sampadahirulkar/LearnPythonTheHardWay/blob/main/Exercise_4.ipynb\" target=\"_parent\"><img src=\"https://colab.research.google.com/assets/colab-badge.svg\" alt=\"Open In Colab\"/></a>"
      ]
    },
    {
      "cell_type": "code",
      "metadata": {
        "colab": {
          "base_uri": "https://localhost:8080/"
        },
        "id": "Z93tTR7paSIj",
        "outputId": "c3ec1a40-eecc-435e-8314-026483d0f736"
      },
      "source": [
        "cars = 100\r\n",
        "space_in_a_car = 4.0\r\n",
        "drivers = 30\r\n",
        "passengers = 90\r\n",
        "cars_not_driven = cars - drivers\r\n",
        "cars_driven = drivers\r\n",
        "carpool_capacity = cars_driven * space_in_a_car\r\n",
        "average_passengers_per_car = passengers / cars_driven\r\n",
        "\r\n",
        "print(\"There are\", cars, \"cars available.\")\r\n",
        "print(\"There are only\", drivers, \"drivers available.\")\r\n",
        "print(\"There will be\", cars_not_driven, \"empty cars today.\")\r\n",
        "print(\"We can transport\", carpool_capacity, \"people today.\")\r\n",
        "print(\"We have\", passengers, \"to carpool today.\")\r\n",
        "print(\"We need to put about\", average_passengers_per_car, \"in each car.\")"
      ],
      "execution_count": 1,
      "outputs": [
        {
          "output_type": "stream",
          "text": [
            "There are 100 cars available.\n",
            "There are only 30 drivers available.\n",
            "There will be 70 empty cars today.\n",
            "We can transport 120.0 people today.\n",
            "We have 90 to carpool today.\n",
            "We need to put about 3.0 in each car.\n"
          ],
          "name": "stdout"
        }
      ]
    }
  ]
}