{
  "nbformat": 4,
  "nbformat_minor": 0,
  "metadata": {
    "colab": {
      "name": "Exercise 9.ipynb",
      "provenance": [],
      "authorship_tag": "ABX9TyOUUkv3Ki9NvwJ9cMyu9hp0",
      "include_colab_link": true
    },
    "kernelspec": {
      "name": "python3",
      "display_name": "Python 3"
    }
  },
  "cells": [
    {
      "cell_type": "markdown",
      "metadata": {
        "id": "view-in-github",
        "colab_type": "text"
      },
      "source": [
        "<a href=\"https://colab.research.google.com/github/sampadahirulkar/LearnPythonTheHardWay/blob/main/Exercise_9.ipynb\" target=\"_parent\"><img src=\"https://colab.research.google.com/assets/colab-badge.svg\" alt=\"Open In Colab\"/></a>"
      ]
    },
    {
      "cell_type": "code",
      "metadata": {
        "colab": {
          "base_uri": "https://localhost:8080/"
        },
        "id": "q8PiDhsGn-1X",
        "outputId": "ff43f1af-5de2-414f-f4cf-2e4db24eacf8"
      },
      "source": [
        "days = \"Mon Tue Wed Thu Fri Sat Sun\"\r\n",
        "months = \"Jan/nFeb/nMar/nApr/nMay/nJun/nJul/nAug/nSept/nOct/nNov/nDec\"\r\n",
        "\r\n",
        "print(\"Here are the days\", days)\r\n",
        "print(\"Here are the months\", months)\r\n",
        "\r\n",
        "print(\"\"\"\r\n",
        "There's something going on here.\r\n",
        "With the three double quotes.\r\n",
        "We'll be able to write as much as we like.\r\n",
        "Even 4 lines if we want, or 5, or 6\r\n",
        "\"\"\")"
      ],
      "execution_count": 1,
      "outputs": [
        {
          "output_type": "stream",
          "text": [
            "Here are the days Mon Tue Wed Thu Fri Sat Sun\n",
            "Here are the months Jan/nFeb/nMar/nApr/nMay/nJun/nJul/nAug/nSept/nOct/nNov/nDec\n",
            "\n",
            "There's something going on here.\n",
            "With the three double quotes.\n",
            "We'll be able to write as much as we like.\n",
            "Even 4 lines if we want, or 5, or 6\n",
            "\n"
          ],
          "name": "stdout"
        }
      ]
    }
  ]
}