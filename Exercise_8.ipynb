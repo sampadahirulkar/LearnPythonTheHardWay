{
  "nbformat": 4,
  "nbformat_minor": 0,
  "metadata": {
    "colab": {
      "name": "Exercise 8.ipynb",
      "provenance": [],
      "authorship_tag": "ABX9TyODP+7EInUpuium3so/kKey",
      "include_colab_link": true
    },
    "kernelspec": {
      "name": "python3",
      "display_name": "Python 3"
    }
  },
  "cells": [
    {
      "cell_type": "markdown",
      "metadata": {
        "id": "view-in-github",
        "colab_type": "text"
      },
      "source": [
        "<a href=\"https://colab.research.google.com/github/sampadahirulkar/LearnPythonTheHardWay/blob/main/Exercise_8.ipynb\" target=\"_parent\"><img src=\"https://colab.research.google.com/assets/colab-badge.svg\" alt=\"Open In Colab\"/></a>"
      ]
    },
    {
      "cell_type": "code",
      "metadata": {
        "colab": {
          "base_uri": "https://localhost:8080/"
        },
        "id": "qhFiTGq1mIT9",
        "outputId": "f1641585-b789-4e20-8dca-9928ecaba2d4"
      },
      "source": [
        "formatter = \"{} {} {} {}\"\r\n",
        "\r\n",
        "print(formatter.format(1, 2, 3, 4))\r\n",
        "print(formatter.format(\"one\", \"two\", \"three\", \"four\"))\r\n",
        "print(formatter.format(True, False, True, False))\r\n",
        "print(formatter.format(formatter, formatter, formatter, formatter))\r\n",
        "print(formatter.format(\r\n",
        "    \"re\",\r\n",
        "    \"mama\",\r\n",
        "    \"re\",\r\n",
        "    \"mama\"\r\n",
        "))\r\n",
        "\r\n",
        "# When you see me write formatter.format(...) I’m telling python to do the following:\r\n",
        "#  1. Take the formatter string defined on line 1.\r\n",
        "#  2. Call its format function, which is similar to telling it to do a command line command named\r\n",
        "#     format.\r\n",
        "#  3. Pass to format four arguments, which match up with the four {}s in the formatter variable.\r\n",
        "#     This is like passing arguments to the command line command format.\r\n",
        "#  4. The result of calling format on formatter is a new string that has the {} replaced with the\r\n",
        "#     four variables. This is what print is now printing out."
      ],
      "execution_count": 1,
      "outputs": [
        {
          "output_type": "stream",
          "text": [
            "1 2 3 4\n",
            "one two three four\n",
            "True False True False\n",
            "{} {} {} {} {} {} {} {} {} {} {} {} {} {} {} {}\n",
            "re mama re mama\n"
          ],
          "name": "stdout"
        }
      ]
    }
  ]
}