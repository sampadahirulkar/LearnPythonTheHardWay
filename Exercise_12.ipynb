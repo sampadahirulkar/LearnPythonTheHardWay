{
  "nbformat": 4,
  "nbformat_minor": 0,
  "metadata": {
    "colab": {
      "name": "Exercise 12.ipynb",
      "provenance": [],
      "authorship_tag": "ABX9TyMhmo8z5R9eI1coAGsEfZOH",
      "include_colab_link": true
    },
    "kernelspec": {
      "name": "python3",
      "display_name": "Python 3"
    }
  },
  "cells": [
    {
      "cell_type": "markdown",
      "metadata": {
        "id": "view-in-github",
        "colab_type": "text"
      },
      "source": [
        "<a href=\"https://colab.research.google.com/github/sampadahirulkar/LearnPythonTheHardWay/blob/main/Exercise_12.ipynb\" target=\"_parent\"><img src=\"https://colab.research.google.com/assets/colab-badge.svg\" alt=\"Open In Colab\"/></a>"
      ]
    },
    {
      "cell_type": "code",
      "metadata": {
        "colab": {
          "base_uri": "https://localhost:8080/"
        },
        "id": "X475EfTWROPc",
        "outputId": "599e216d-1377-4841-8b58-88a3677ec06f"
      },
      "source": [
        "age = input(\"How old are you? \")\r\n",
        "height = input(\"How tall are you? \")\r\n",
        "weight = input(\"How much do you weigh? \")\r\n",
        "\r\n",
        "print(f\"So, you're {age} old, {height} tall and {weight} heavy.\")"
      ],
      "execution_count": 1,
      "outputs": [
        {
          "output_type": "stream",
          "text": [
            "How old are you? 18 years\n",
            "How tall are you? 157 cm\n",
            "How much do you weigh? 45 kg\n",
            "So, you're 18 years old, 157 cm tall and 45 kg heavy.\n"
          ],
          "name": "stdout"
        }
      ]
    }
  ]
}