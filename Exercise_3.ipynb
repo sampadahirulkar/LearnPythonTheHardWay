{
  "nbformat": 4,
  "nbformat_minor": 0,
  "metadata": {
    "colab": {
      "name": "Exercise 3.ipynb",
      "provenance": [],
      "authorship_tag": "ABX9TyNG+1PvhIPx+RUudd6nMuTF",
      "include_colab_link": true
    },
    "kernelspec": {
      "name": "python3",
      "display_name": "Python 3"
    }
  },
  "cells": [
    {
      "cell_type": "markdown",
      "metadata": {
        "id": "view-in-github",
        "colab_type": "text"
      },
      "source": [
        "<a href=\"https://colab.research.google.com/github/sampadahirulkar/LearnPythonTheHardWay/blob/main/Exercise_3.ipynb\" target=\"_parent\"><img src=\"https://colab.research.google.com/assets/colab-badge.svg\" alt=\"Open In Colab\"/></a>"
      ]
    },
    {
      "cell_type": "code",
      "metadata": {
        "colab": {
          "base_uri": "https://localhost:8080/"
        },
        "id": "nr4IiQoqZ4Sb",
        "outputId": "285cae9e-1b10-428f-87c0-92c31fe06620"
      },
      "source": [
        "print(\"I will now count my chickens:\")\r\n",
        "\r\n",
        "print(\"Hens\", 25 + 30 / 6)\r\n",
        "print(\"Roosters\", 100 - 25 * 3 % 4)\r\n",
        "\r\n",
        "print(\"I will now count the eggs:\")\r\n",
        "\r\n",
        "print(\"Is it true that 3 + 2 < 5 - 7?\")\r\n",
        "\r\n",
        "print(3 + 2 < 5 - 7)\r\n",
        "\r\n",
        "print(\"What is 3 + 2?\", 3.0 + 2.0)\r\n",
        "print(\"What is 5 - 7?\", 5.0 - 7.0)\r\n",
        "\r\n",
        "print(\"Oh! That's why it's False.\")"
      ],
      "execution_count": 1,
      "outputs": [
        {
          "output_type": "stream",
          "text": [
            "I will now count my chickens:\n",
            "Hens 30.0\n",
            "Roosters 97\n",
            "I will now count the eggs:\n",
            "Is it true that 3 + 2 < 5 - 7?\n",
            "False\n",
            "What is 3 + 2? 5.0\n",
            "What is 5 - 7? -2.0\n",
            "Oh! That's why it's False.\n"
          ],
          "name": "stdout"
        }
      ]
    }
  ]
}